{
 "cells": [
  {
   "cell_type": "markdown",
   "id": "104ffae8",
   "metadata": {},
   "source": [
    "### Sepehr Rezaee - 99242067"
   ]
  },
  {
   "cell_type": "code",
   "execution_count": 1,
   "id": "c94eaad1",
   "metadata": {},
   "outputs": [],
   "source": [
    "import cv2\n",
    "import numpy as np"
   ]
  },
  {
   "cell_type": "code",
   "execution_count": 2,
   "id": "8f25bc54",
   "metadata": {},
   "outputs": [],
   "source": [
    "def high_pass_filter(image):\n",
    "    # Convert the image to grayscale\n",
    "    gray_image = cv2.cvtColor(image, cv2.COLOR_BGR2GRAY)\n",
    "\n",
    "    # Apply a Gaussian blur to the grayscale image\n",
    "    blurred_image = cv2.GaussianBlur(image, (7, 7), 0)\n",
    "\n",
    "    # Subtract the blurred image from the original grayscale image\n",
    "    high_pass_image = cv2.subtract(image, blurred_image)\n",
    "\n",
    "    return high_pass_image\n",
    "\n",
    "def low_pass_filter(image):\n",
    "    # Convert the image to grayscale\n",
    "#     gray_image = cv2.cvtColor(image, cv2.COLOR_BGR2GRAY)\n",
    "    \n",
    "    # Apply a Gaussian blur to the image\n",
    "    low_pass_image = cv2.GaussianBlur(image, (7, 7), 0)\n",
    "\n",
    "    return low_pass_image\n",
    "\n",
    "def combine_images(image1, image2):\n",
    "\n",
    "    # Combine the images by adding them together\n",
    "    combined_image = cv2.addWeighted(image1, 5, image2, 0.5, 0)\n",
    "\n",
    "    return combined_image"
   ]
  },
  {
   "cell_type": "code",
   "execution_count": 3,
   "id": "0ab73cec",
   "metadata": {},
   "outputs": [],
   "source": [
    "# Read the input images\n",
    "image2 = cv2.imread('./man.jpg')\n",
    "image1 = cv2.imread('./woman.jpg')"
   ]
  },
  {
   "cell_type": "code",
   "execution_count": 4,
   "id": "14a52c61",
   "metadata": {},
   "outputs": [],
   "source": [
    "#  Display the combined image\n",
    "cv2.imshow('Man', image2)\n",
    "cv2.waitKey(0)\n",
    "cv2.destroyAllWindows()"
   ]
  },
  {
   "cell_type": "code",
   "execution_count": 5,
   "id": "e759436b",
   "metadata": {},
   "outputs": [],
   "source": [
    "#  Display the combined image\n",
    "cv2.imshow('Woman', image1)\n",
    "cv2.waitKey(0)\n",
    "cv2.destroyAllWindows()"
   ]
  },
  {
   "cell_type": "code",
   "execution_count": 6,
   "id": "8fcef603",
   "metadata": {},
   "outputs": [],
   "source": [
    "# Apply the high pass filter to image1 and the low pass filter to image2\n",
    "high_pass_image1 = high_pass_filter(image1)\n",
    "low_pass_image2 = low_pass_filter(image2)"
   ]
  },
  {
   "cell_type": "code",
   "execution_count": 7,
   "id": "a426083d",
   "metadata": {},
   "outputs": [
    {
     "data": {
      "text/plain": [
       "True"
      ]
     },
     "execution_count": 7,
     "metadata": {},
     "output_type": "execute_result"
    }
   ],
   "source": [
    "# Combine the filtered images\n",
    "combined_image = combine_images(high_pass_image1, low_pass_image2)\n",
    "\n",
    "# Save the combined image\n",
    "cv2.imwrite('combined_image.jpg', combined_image)"
   ]
  },
  {
   "cell_type": "code",
   "execution_count": null,
   "id": "64b332b2",
   "metadata": {},
   "outputs": [],
   "source": [
    "# Display the combined image\n",
    "cv2.imshow('Combined Image', combined_image)\n",
    "cv2.waitKey(0)\n",
    "cv2.destroyAllWindows()"
   ]
  },
  {
   "cell_type": "code",
   "execution_count": null,
   "id": "3b1e214e",
   "metadata": {},
   "outputs": [],
   "source": []
  }
 ],
 "metadata": {
  "kernelspec": {
   "display_name": "Python 3 (ipykernel)",
   "language": "python",
   "name": "python3"
  },
  "language_info": {
   "codemirror_mode": {
    "name": "ipython",
    "version": 3
   },
   "file_extension": ".py",
   "mimetype": "text/x-python",
   "name": "python",
   "nbconvert_exporter": "python",
   "pygments_lexer": "ipython3",
   "version": "3.10.9"
  }
 },
 "nbformat": 4,
 "nbformat_minor": 5
}
